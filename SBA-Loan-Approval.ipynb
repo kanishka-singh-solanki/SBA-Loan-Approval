{
 "cells": [
  {
   "cell_type": "code",
   "execution_count": 65,
   "id": "42c901a1",
   "metadata": {},
   "outputs": [],
   "source": [
    "from sklearn.pipeline import Pipeline\n",
    "import time"
   ]
  },
  {
   "cell_type": "code",
   "execution_count": 66,
   "id": "aface72e",
   "metadata": {},
   "outputs": [
    {
     "name": "stdout",
     "output_type": "stream",
     "text": [
      "\n",
      "Runtime: 0.000 seconds\n"
     ]
    }
   ],
   "source": [
    "#Importing Libraries\n",
    "\n",
    "start = time.time()\n",
    "\n",
    "import numpy as np\n",
    "import pandas as pd\n",
    "import matplotlib.pyplot as plt\n",
    "import seaborn as sns\n",
    "\n",
    "from sklearn.metrics import classification_report\n",
    "from sklearn.metrics import confusion_matrix\n",
    "from sklearn.metrics import accuracy_score\n",
    "\n",
    "from sklearn.preprocessing import LabelEncoder\n",
    "from sklearn.preprocessing import StandardScaler\n",
    "\n",
    "from sklearn.feature_selection import SelectKBest\n",
    "from sklearn.feature_selection import chi2\n",
    "\n",
    "from sklearn.model_selection import train_test_split\n",
    "from sklearn.model_selection import KFold\n",
    "from sklearn.model_selection import cross_val_score\n",
    "\n",
    "from sklearn.tree import DecisionTreeClassifier\n",
    "from sklearn.discriminant_analysis import LinearDiscriminantAnalysis\n",
    "from sklearn.linear_model import LogisticRegression\n",
    "from sklearn.ensemble import RandomForestClassifier\n",
    "from sklearn.neighbors import KNeighborsClassifier\n",
    "from sklearn.naive_bayes import GaussianNB\n",
    "from sklearn.svm import SVC\n",
    "\n",
    "import warnings\n",
    "warnings.filterwarnings(action=\"ignore\")\n",
    "\n",
    "pd.set_option('display.width', 1000)\n",
    "pd.set_option('display.max_column', None)\n",
    "np.set_printoptions(precision = 3)\n",
    "\n",
    "end = time.time()\n",
    "\n",
    "print(\"\\nRuntime: %.3f seconds\"% (end - start))"
   ]
  },
  {
   "cell_type": "markdown",
   "id": "8c48e53b",
   "metadata": {},
   "source": [
    "# Loading Dataset"
   ]
  },
  {
   "cell_type": "code",
   "execution_count": 67,
   "id": "33081736",
   "metadata": {
    "scrolled": false
   },
   "outputs": [
    {
     "name": "stdout",
     "output_type": "stream",
     "text": [
      "(899164, 27) \n",
      "\n",
      "        LoanNr_ChkDgt    Name         City   State            Zip                        Bank BankState          NAICS ApprovalDate  ApprovalFY           Term          NoEmp       NewExist      CreateJob    RetainedJob  FranchiseCode     UrbanRural RevLineCr  LowDoc ChgOffDate DisbursementDate DisbursementGross BalanceGross MIS_Status ChgOffPrinGr       GrAppv     SBA_Appv\n",
      "count    8.991640e+05  899150       899134  899150  899164.000000                      897605    897598  899164.000000       899164    899164.0  899164.000000  899164.000000  899028.000000  899164.000000  899164.000000  899164.000000  899164.000000    894636  896582     162699           896796            899164       899164     897167       899164       899164       899164\n",
      "unique            NaN  779583        32581      51            NaN                        5802        56            NaN         9859        70.0            NaN            NaN            NaN            NaN            NaN            NaN            NaN        18       8       6448             8472            118859           15          2        83165        22128        38326\n",
      "top               NaN  SUBWAY  LOS ANGELES      CA            NaN  BANK OF AMERICA NATL ASSOC        CA            NaN     7-Jul-93      2006.0            NaN            NaN            NaN            NaN            NaN            NaN            NaN         N       N  13-Mar-10        31-Jul-95       $50,000.00        $0.00       P I F       $0.00   $50,000.00   $25,000.00 \n",
      "freq              NaN    1269        11558  130619            NaN                       86853    118116            NaN         1131     76040.0            NaN            NaN            NaN            NaN            NaN            NaN            NaN    420288  782822        734            10371             43787       899150     739609       737152        69394        49579\n",
      "mean     4.772612e+09     NaN          NaN     NaN   53804.391241                         NaN       NaN  398660.950146          NaN         NaN     110.773078      11.411353       1.280404       8.430376      10.797257    2753.725933       0.757748       NaN     NaN        NaN              NaN               NaN          NaN        NaN          NaN          NaN          NaN\n",
      "std      2.538175e+09     NaN          NaN     NaN   31184.159152                         NaN       NaN  263318.312759          NaN         NaN      78.857305      74.108196       0.451750     236.688165     237.120600   12758.019136       0.646436       NaN     NaN        NaN              NaN               NaN          NaN        NaN          NaN          NaN          NaN\n",
      "min      1.000014e+09     NaN          NaN     NaN       0.000000                         NaN       NaN       0.000000          NaN         NaN       0.000000       0.000000       0.000000       0.000000       0.000000       0.000000       0.000000       NaN     NaN        NaN              NaN               NaN          NaN        NaN          NaN          NaN          NaN\n",
      "25%      2.589758e+09     NaN          NaN     NaN   27587.000000                         NaN       NaN  235210.000000          NaN         NaN      60.000000       2.000000       1.000000       0.000000       0.000000       1.000000       0.000000       NaN     NaN        NaN              NaN               NaN          NaN        NaN          NaN          NaN          NaN\n",
      "50%      4.361439e+09     NaN          NaN     NaN   55410.000000                         NaN       NaN  445310.000000          NaN         NaN      84.000000       4.000000       1.000000       0.000000       1.000000       1.000000       1.000000       NaN     NaN        NaN              NaN               NaN          NaN        NaN          NaN          NaN          NaN\n",
      "75%      6.904627e+09     NaN          NaN     NaN   83704.000000                         NaN       NaN  561730.000000          NaN         NaN     120.000000      10.000000       2.000000       1.000000       4.000000       1.000000       1.000000       NaN     NaN        NaN              NaN               NaN          NaN        NaN          NaN          NaN          NaN\n",
      "max      9.996003e+09     NaN          NaN     NaN   99999.000000                         NaN       NaN  928120.000000          NaN         NaN     569.000000    9999.000000       2.000000    8800.000000    9500.000000   99999.000000       2.000000       NaN     NaN        NaN              NaN               NaN          NaN        NaN          NaN          NaN          NaN \n",
      "\n",
      "<class 'pandas.core.frame.DataFrame'>\n",
      "RangeIndex: 899164 entries, 0 to 899163\n",
      "Data columns (total 27 columns):\n",
      " #   Column             Non-Null Count   Dtype  \n",
      "---  ------             --------------   -----  \n",
      " 0   LoanNr_ChkDgt      899164 non-null  int64  \n",
      " 1   Name               899150 non-null  object \n",
      " 2   City               899134 non-null  object \n",
      " 3   State              899150 non-null  object \n",
      " 4   Zip                899164 non-null  int64  \n",
      " 5   Bank               897605 non-null  object \n",
      " 6   BankState          897598 non-null  object \n",
      " 7   NAICS              899164 non-null  int64  \n",
      " 8   ApprovalDate       899164 non-null  object \n",
      " 9   ApprovalFY         899164 non-null  object \n",
      " 10  Term               899164 non-null  int64  \n",
      " 11  NoEmp              899164 non-null  int64  \n",
      " 12  NewExist           899028 non-null  float64\n",
      " 13  CreateJob          899164 non-null  int64  \n",
      " 14  RetainedJob        899164 non-null  int64  \n",
      " 15  FranchiseCode      899164 non-null  int64  \n",
      " 16  UrbanRural         899164 non-null  int64  \n",
      " 17  RevLineCr          894636 non-null  object \n",
      " 18  LowDoc             896582 non-null  object \n",
      " 19  ChgOffDate         162699 non-null  object \n",
      " 20  DisbursementDate   896796 non-null  object \n",
      " 21  DisbursementGross  899164 non-null  object \n",
      " 22  BalanceGross       899164 non-null  object \n",
      " 23  MIS_Status         897167 non-null  object \n",
      " 24  ChgOffPrinGr       899164 non-null  object \n",
      " 25  GrAppv             899164 non-null  object \n",
      " 26  SBA_Appv           899164 non-null  object \n",
      "dtypes: float64(1), int64(9), object(17)\n",
      "memory usage: 185.2+ MB\n",
      "None \n",
      "\n"
     ]
    },
    {
     "data": {
      "text/html": [
       "<div>\n",
       "<style scoped>\n",
       "    .dataframe tbody tr th:only-of-type {\n",
       "        vertical-align: middle;\n",
       "    }\n",
       "\n",
       "    .dataframe tbody tr th {\n",
       "        vertical-align: top;\n",
       "    }\n",
       "\n",
       "    .dataframe thead th {\n",
       "        text-align: right;\n",
       "    }\n",
       "</style>\n",
       "<table border=\"1\" class=\"dataframe\">\n",
       "  <thead>\n",
       "    <tr style=\"text-align: right;\">\n",
       "      <th></th>\n",
       "      <th>LoanNr_ChkDgt</th>\n",
       "      <th>Name</th>\n",
       "      <th>City</th>\n",
       "      <th>State</th>\n",
       "      <th>Zip</th>\n",
       "      <th>Bank</th>\n",
       "      <th>BankState</th>\n",
       "      <th>NAICS</th>\n",
       "      <th>ApprovalDate</th>\n",
       "      <th>ApprovalFY</th>\n",
       "      <th>Term</th>\n",
       "      <th>NoEmp</th>\n",
       "      <th>NewExist</th>\n",
       "      <th>CreateJob</th>\n",
       "      <th>RetainedJob</th>\n",
       "      <th>FranchiseCode</th>\n",
       "      <th>UrbanRural</th>\n",
       "      <th>RevLineCr</th>\n",
       "      <th>LowDoc</th>\n",
       "      <th>ChgOffDate</th>\n",
       "      <th>DisbursementDate</th>\n",
       "      <th>DisbursementGross</th>\n",
       "      <th>BalanceGross</th>\n",
       "      <th>MIS_Status</th>\n",
       "      <th>ChgOffPrinGr</th>\n",
       "      <th>GrAppv</th>\n",
       "      <th>SBA_Appv</th>\n",
       "    </tr>\n",
       "  </thead>\n",
       "  <tbody>\n",
       "    <tr>\n",
       "      <th>686709</th>\n",
       "      <td>7107434008</td>\n",
       "      <td>HAIRWORLD</td>\n",
       "      <td>NASHVILLE</td>\n",
       "      <td>TN</td>\n",
       "      <td>37210</td>\n",
       "      <td>U.S. BANK NATIONAL ASSOCIATION</td>\n",
       "      <td>OH</td>\n",
       "      <td>446120</td>\n",
       "      <td>20-Jan-04</td>\n",
       "      <td>2004</td>\n",
       "      <td>4</td>\n",
       "      <td>4</td>\n",
       "      <td>1.0</td>\n",
       "      <td>0</td>\n",
       "      <td>4</td>\n",
       "      <td>1</td>\n",
       "      <td>1</td>\n",
       "      <td>Y</td>\n",
       "      <td>N</td>\n",
       "      <td>8-Dec-10</td>\n",
       "      <td>31-Mar-04</td>\n",
       "      <td>$89,854.00</td>\n",
       "      <td>$0.00</td>\n",
       "      <td>CHGOFF</td>\n",
       "      <td>$23,309.00</td>\n",
       "      <td>$25,000.00</td>\n",
       "      <td>$12,500.00</td>\n",
       "    </tr>\n",
       "    <tr>\n",
       "      <th>392826</th>\n",
       "      <td>3786143000</td>\n",
       "      <td>TCBY OF MEDFORD</td>\n",
       "      <td>MEDFORD</td>\n",
       "      <td>OR</td>\n",
       "      <td>97501</td>\n",
       "      <td>WELLS FARGO BANK NATL ASSOC</td>\n",
       "      <td>SD</td>\n",
       "      <td>0</td>\n",
       "      <td>25-Jan-90</td>\n",
       "      <td>1990</td>\n",
       "      <td>84</td>\n",
       "      <td>10</td>\n",
       "      <td>1.0</td>\n",
       "      <td>0</td>\n",
       "      <td>0</td>\n",
       "      <td>81630</td>\n",
       "      <td>0</td>\n",
       "      <td>N</td>\n",
       "      <td>N</td>\n",
       "      <td>NaN</td>\n",
       "      <td>30-Apr-90</td>\n",
       "      <td>$107,000.00</td>\n",
       "      <td>$0.00</td>\n",
       "      <td>P I F</td>\n",
       "      <td>$0.00</td>\n",
       "      <td>$107,000.00</td>\n",
       "      <td>$96,300.00</td>\n",
       "    </tr>\n",
       "    <tr>\n",
       "      <th>607152</th>\n",
       "      <td>6028193009</td>\n",
       "      <td>SUEANN INC.,  DBA SAMMIE'S</td>\n",
       "      <td>LAS VEGAS</td>\n",
       "      <td>NV</td>\n",
       "      <td>89103</td>\n",
       "      <td>WELLS FARGO BANK NATL ASSOC</td>\n",
       "      <td>NV</td>\n",
       "      <td>0</td>\n",
       "      <td>29-Oct-93</td>\n",
       "      <td>1994</td>\n",
       "      <td>126</td>\n",
       "      <td>16</td>\n",
       "      <td>2.0</td>\n",
       "      <td>0</td>\n",
       "      <td>0</td>\n",
       "      <td>1</td>\n",
       "      <td>0</td>\n",
       "      <td>N</td>\n",
       "      <td>N</td>\n",
       "      <td>NaN</td>\n",
       "      <td>31-Jan-94</td>\n",
       "      <td>$115,413.00</td>\n",
       "      <td>$0.00</td>\n",
       "      <td>P I F</td>\n",
       "      <td>$0.00</td>\n",
       "      <td>$115,413.00</td>\n",
       "      <td>$98,101.00</td>\n",
       "    </tr>\n",
       "    <tr>\n",
       "      <th>476937</th>\n",
       "      <td>4593185002</td>\n",
       "      <td>V.R.T. PROVISIONS, INC.</td>\n",
       "      <td>HIALEAH</td>\n",
       "      <td>FL</td>\n",
       "      <td>33013</td>\n",
       "      <td>COMMUNITY BANK OF BROWARD</td>\n",
       "      <td>FL</td>\n",
       "      <td>424410</td>\n",
       "      <td>21-Mar-11</td>\n",
       "      <td>2011</td>\n",
       "      <td>39</td>\n",
       "      <td>7</td>\n",
       "      <td>1.0</td>\n",
       "      <td>1</td>\n",
       "      <td>7</td>\n",
       "      <td>0</td>\n",
       "      <td>1</td>\n",
       "      <td>N</td>\n",
       "      <td>N</td>\n",
       "      <td>13-Mar-14</td>\n",
       "      <td>21-Mar-11</td>\n",
       "      <td>$200,000.00</td>\n",
       "      <td>$0.00</td>\n",
       "      <td>CHGOFF</td>\n",
       "      <td>$146,846.00</td>\n",
       "      <td>$200,000.00</td>\n",
       "      <td>$150,000.00</td>\n",
       "    </tr>\n",
       "    <tr>\n",
       "      <th>675045</th>\n",
       "      <td>6917814001</td>\n",
       "      <td>WAYNE SHELTON&amp;ASSOCIATES, PSC</td>\n",
       "      <td>PADUCAH</td>\n",
       "      <td>KY</td>\n",
       "      <td>42001</td>\n",
       "      <td>PADUCAH BK &amp; TR CO</td>\n",
       "      <td>KY</td>\n",
       "      <td>541211</td>\n",
       "      <td>14-Nov-03</td>\n",
       "      <td>2004</td>\n",
       "      <td>60</td>\n",
       "      <td>5</td>\n",
       "      <td>1.0</td>\n",
       "      <td>0</td>\n",
       "      <td>0</td>\n",
       "      <td>1</td>\n",
       "      <td>2</td>\n",
       "      <td>N</td>\n",
       "      <td>N</td>\n",
       "      <td>NaN</td>\n",
       "      <td>30-Nov-03</td>\n",
       "      <td>$163,000.00</td>\n",
       "      <td>$0.00</td>\n",
       "      <td>P I F</td>\n",
       "      <td>$0.00</td>\n",
       "      <td>$163,000.00</td>\n",
       "      <td>$122,250.00</td>\n",
       "    </tr>\n",
       "  </tbody>\n",
       "</table>\n",
       "</div>"
      ],
      "text/plain": [
       "        LoanNr_ChkDgt                           Name       City State    Zip                            Bank BankState   NAICS ApprovalDate ApprovalFY  Term  NoEmp  NewExist  CreateJob  RetainedJob  FranchiseCode  UrbanRural RevLineCr LowDoc ChgOffDate DisbursementDate DisbursementGross BalanceGross MIS_Status  ChgOffPrinGr        GrAppv      SBA_Appv\n",
       "686709     7107434008                      HAIRWORLD  NASHVILLE    TN  37210  U.S. BANK NATIONAL ASSOCIATION        OH  446120    20-Jan-04       2004     4      4       1.0          0            4              1           1         Y      N   8-Dec-10        31-Mar-04       $89,854.00        $0.00      CHGOFF   $23,309.00    $25,000.00    $12,500.00 \n",
       "392826     3786143000                TCBY OF MEDFORD    MEDFORD    OR  97501     WELLS FARGO BANK NATL ASSOC        SD       0    25-Jan-90       1990    84     10       1.0          0            0          81630           0         N      N        NaN        30-Apr-90      $107,000.00        $0.00       P I F        $0.00   $107,000.00    $96,300.00 \n",
       "607152     6028193009     SUEANN INC.,  DBA SAMMIE'S  LAS VEGAS    NV  89103     WELLS FARGO BANK NATL ASSOC        NV       0    29-Oct-93       1994   126     16       2.0          0            0              1           0         N      N        NaN        31-Jan-94      $115,413.00        $0.00       P I F        $0.00   $115,413.00    $98,101.00 \n",
       "476937     4593185002        V.R.T. PROVISIONS, INC.    HIALEAH    FL  33013       COMMUNITY BANK OF BROWARD        FL  424410    21-Mar-11       2011    39      7       1.0          1            7              0           1         N      N  13-Mar-14        21-Mar-11      $200,000.00        $0.00      CHGOFF  $146,846.00   $200,000.00   $150,000.00 \n",
       "675045     6917814001  WAYNE SHELTON&ASSOCIATES, PSC    PADUCAH    KY  42001              PADUCAH BK & TR CO        KY  541211    14-Nov-03       2004    60      5       1.0          0            0              1           2         N      N        NaN        30-Nov-03      $163,000.00        $0.00       P I F        $0.00   $163,000.00   $122,250.00 "
      ]
     },
     "execution_count": 67,
     "metadata": {},
     "output_type": "execute_result"
    }
   ],
   "source": [
    "#Load the dataset and do some quick exploratory analysis\n",
    "data = pd.read_csv('SBAnational.csv')\n",
    "print(data.shape,\"\\n\")\n",
    "print(data.describe(include = \"all\"),\"\\n\")\n",
    "print(data.info(),\"\\n\")\n",
    "data.sample(5)"
   ]
  },
  {
   "cell_type": "markdown",
   "id": "629192a4",
   "metadata": {},
   "source": [
    "# Data Visualisation"
   ]
  },
  {
   "cell_type": "code",
   "execution_count": 68,
   "id": "35f9320f",
   "metadata": {},
   "outputs": [
    {
     "data": {
      "image/png": "[encoded data removed]",
      "text/plain": [
       "<Figure size 640x480 with 2 Axes>"
      ]
     },
     "metadata": {},
     "output_type": "display_data"
    },
    {
     "data": {
      "image/png": "[encoded data removed]",
      "text/plain": [
       "<Figure size 640x480 with 10 Axes>"
      ]
     },
     "metadata": {},
     "output_type": "display_data"
    },
    {
     "name": "stdout",
     "output_type": "stream",
     "text": [
      "\n",
      "Runtime: 2.088 seconds\n"
     ]
    }
   ],
   "source": [
    "start = time.time()\n",
    "\n",
    "# Pearson correlation\n",
    "sns.heatmap(data.corr(),annot=False,cmap='Blues')\n",
    "\n",
    "# Box and Whisker plot\n",
    "data.plot(kind = \"box\", subplots = True, layout=(2,5), sharex = False, sharey = False)\n",
    "\n",
    "plt.tight_layout()\n",
    "plt.show()\n",
    "\n",
    "end = time.time()\n",
    "\n",
    "print(\"\\nRuntime: %.3f seconds\"% (end - start))"
   ]
  },
  {
   "cell_type": "markdown",
   "id": "069a330c",
   "metadata": {},
   "source": [
    "# Data Preprocessing"
   ]
  },
  {
   "cell_type": "code",
   "execution_count": 69,
   "id": "171e8bef",
   "metadata": {},
   "outputs": [
    {
     "name": "stdout",
     "output_type": "stream",
     "text": [
      "<class 'pandas.core.frame.DataFrame'>\n",
      "Int64Index: 886240 entries, 1000014003 to 9996003010\n",
      "Data columns (total 26 columns):\n",
      " #   Column             Non-Null Count   Dtype  \n",
      "---  ------             --------------   -----  \n",
      " 0   Name               886240 non-null  object \n",
      " 1   City               886240 non-null  object \n",
      " 2   State              886240 non-null  object \n",
      " 3   Zip                886240 non-null  int64  \n",
      " 4   Bank               886240 non-null  object \n",
      " 5   BankState          886240 non-null  object \n",
      " 6   NAICS              886240 non-null  int64  \n",
      " 7   ApprovalDate       886240 non-null  object \n",
      " 8   ApprovalFY         886240 non-null  object \n",
      " 9   Term               886240 non-null  int64  \n",
      " 10  NoEmp              886240 non-null  int64  \n",
      " 11  NewExist           886240 non-null  float64\n",
      " 12  CreateJob          886240 non-null  int64  \n",
      " 13  RetainedJob        886240 non-null  int64  \n",
      " 14  FranchiseCode      886240 non-null  int64  \n",
      " 15  UrbanRural         886240 non-null  int64  \n",
      " 16  RevLineCr          886240 non-null  object \n",
      " 17  LowDoc             886240 non-null  object \n",
      " 18  ChgOffDate         886240 non-null  int64  \n",
      " 19  DisbursementDate   886240 non-null  object \n",
      " 20  DisbursementGross  886240 non-null  object \n",
      " 21  BalanceGross       886240 non-null  object \n",
      " 22  MIS_Status         886240 non-null  object \n",
      " 23  ChgOffPrinGr       886240 non-null  object \n",
      " 24  GrAppv             886240 non-null  object \n",
      " 25  SBA_Appv           886240 non-null  object \n",
      "dtypes: float64(1), int64(9), object(16)\n",
      "memory usage: 182.6+ MB\n",
      "                                        Name          City State    Zip                           Bank BankState   NAICS ApprovalDate ApprovalFY  Term  NoEmp  NewExist  CreateJob  RetainedJob  FranchiseCode  UrbanRural RevLineCr LowDoc  ChgOffDate DisbursementDate DisbursementGross BalanceGross MIS_Status ChgOffPrinGr        GrAppv      SBA_Appv\n",
      "LoanNr_ChkDgt                                                                                                                                                                                                                                                                                                                                              \n",
      "1000014003                    ABC HOBBYCRAFT    EVANSVILLE    IN  47711               FIFTH THIRD BANK        OH  451120    28-Feb-97       1997    84      4       2.0          0            0              1           0         N      Y           1        28-Feb-99       $60,000.00        $0.00       P I F       $0.00    $60,000.00    $48,000.00 \n",
      "1000024006       LANDMARK BAR & GRILLE (THE)     NEW PARIS    IN  46526                1ST SOURCE BANK        IN  722410    28-Feb-97       1997    60      2       2.0          0            0              1           0         N      Y           1        31-May-97       $40,000.00        $0.00       P I F       $0.00    $40,000.00    $32,000.00 \n",
      "1000034009             WHITLOCK DDS, TODD M.   BLOOMINGTON    IN  47401        GRANT COUNTY STATE BANK        IN  621210    28-Feb-97       1997   180      7       1.0          0            0              1           0         N      N           1        31-Dec-97      $287,000.00        $0.00       P I F       $0.00   $287,000.00   $215,250.00 \n",
      "1000044001     BIG BUCKS PAWN & JEWELRY, LLC  BROKEN ARROW    OK  74012  1ST NATL BK & TR CO OF BROKEN        OK       0    28-Feb-97       1997    60      2       1.0          0            0              1           0         N      Y           1        30-Jun-97       $35,000.00        $0.00       P I F       $0.00    $35,000.00    $28,000.00 \n",
      "1000054004       ANASTASIA CONFECTIONS, INC.       ORLANDO    FL  32801        FLORIDA BUS. DEVEL CORP        FL       0    28-Feb-97       1997   240     14       1.0          7            7              1           0         N      N           1        14-May-97      $229,000.00        $0.00       P I F       $0.00   $229,000.00   $229,000.00  \n",
      "\n",
      "AxesSubplot(0.125,0.11;0.775x0.77)\n",
      "\n",
      "Runtime: 2.616 seconds\n"
     ]
    },
    {
     "data": {
      "image/png": "[encoded data removed]",
      "text/plain": [
       "<Figure size 640x480 with 1 Axes>"
      ]
     },
     "metadata": {},
     "output_type": "display_data"
    }
   ],
   "source": [
    "start = time.time()\n",
    "\n",
    "# data cleaning\n",
    "\n",
    "start = time.time()\n",
    "data[\"ChgOffDate\"] = data[\"ChgOffDate\"].fillna(1)\n",
    "data[\"ChgOffDate\"] = data[\"ChgOffDate\"].apply(lambda x : 1 if(x == 1) else 0)\n",
    "data = data.dropna(how = \"any\", axis = 0)\n",
    "data = data.set_index(\"LoanNr_ChkDgt\")\n",
    "data.info()\n",
    "print(data.head(5),\"\\n\")\n",
    "print(sns.countplot(x=data[\"ChgOffDate\"]))\n",
    "\n",
    "end = time.time()\n",
    "\n",
    "print(\"\\nRuntime: %.3f seconds\"% (end - start))"
   ]
  },
  {
   "cell_type": "code",
   "execution_count": 70,
   "id": "c3ab6110",
   "metadata": {},
   "outputs": [
    {
     "name": "stdout",
     "output_type": "stream",
     "text": [
      "\n",
      "Runtime: 0.790 seconds\n"
     ]
    }
   ],
   "source": [
    "start = time.time()\n",
    "\n",
    "#Feature Engineering\n",
    "\n",
    "L = []\n",
    "\n",
    "for x in np.array(data.NAICS):\n",
    "    x = int(str(x)[0:2])\n",
    "    if(x == 11): x = \"Agriculture, forestry, fishing and hunting\"\n",
    "    elif(x == 21): x = \"Mining, quarrying, and oil and gas extraction\"\n",
    "    elif(x == 22): x = \"Utilities\"\n",
    "    elif(x == 23): x = \"Construction\"\n",
    "    elif(x == 31 or x == 32 or x == 33): x = \"Manufacturing\"\n",
    "    elif(x == 42): x = \"Wholesale trade\"\n",
    "    elif(x == 44 or x == 45): x = \"Retail trade\"\n",
    "    elif(x == 48 or x == 49): x = \"Transportation and warehousing\"\n",
    "    elif(x == 51): x = \"Information\"\n",
    "    elif(x == 52): x = \"Finance and insurance\"\n",
    "    elif(x == 53): x = \"Real estate and rental and leasing\"\n",
    "    elif(x == 54): x = \"Professional, scientific, and technical services\"\n",
    "    elif(x == 55): x = \"Management of companies and enterprises\"\n",
    "    elif(x == 56): x = \"Administrative and support and waste management and remediation services\"\n",
    "    elif(x == 61): x = \"Educational services\"\n",
    "    elif(x == 62): x = \"Health care and social assistance\"\n",
    "    elif(x == 71): x = \"Arts, entertainment, and recreation\"\n",
    "    elif(x == 72): x = \"Accommodation and food services\"\n",
    "    elif(x == 92): x = \"Public administration\"\n",
    "    else: x = \"Other services (except public administration)\"\n",
    "    L.append(x)\n",
    "    \n",
    "data.insert(4,\"Sector(based on NAICS)\",L)\n",
    "del(data['NAICS'])\n",
    "\n",
    "end = time.time()\n",
    "\n",
    "print(\"\\nRuntime: %.3f seconds\"% (end - start))"
   ]
  },
  {
   "cell_type": "code",
   "execution_count": 71,
   "id": "b255cb64",
   "metadata": {},
   "outputs": [
    {
     "name": "stdout",
     "output_type": "stream",
     "text": [
      "                 Name   City  State    Zip  Approval_FY  Sector(based on NAICS)  Bank  BankState  ApprovalDate  Term  NoEmp  NewExist  CreateJob  RetainedJob  FranchiseCode  UrbanRural  RevLineCr  LowDoc  ChgOffDate  DisbursementDate  DisbursementGross  BalanceGross  MIS_Status  ChgOffPrinGr  GrAppv  SBA_Appv\n",
      "LoanNr_ChkDgt                                                                                                                                                                                                                                                                                                         \n",
      "1000014003      12650   8483     15  47711         1997                      16  2140         38          6538    84      4       2.0          0            0              1           0         12       7           1              5640              89596             0           1             0   16418     24632\n",
      "1000024006     400509  19412     15  46526         1997                       0   132         18          6538    60      2       2.0          0            0              1           0         12       7           1              6807              68921             0           1             0   12399     17684\n",
      "1000034009     750471   2184     15  47401         1997                       7  2854         18          6538   180      7       1.0          0            0              1           0         12       4           1              6675              53912             0           1             0    9411     11663\n",
      "1000044001      82922   2695     36  74012         1997                      12    25         39          6538    60      2       1.0          0            0              1           0         12       7           1              6483              62479             0           1             0   11147     15439\n",
      "1000054004      38131  20948      9  32801         1997                      12  2679         11          6538   240     14       1.0          7            7              1           0         12       4           1              1664              43768             0           1             0    7694     12462\n",
      "\n",
      "Runtime: 4.213 seconds\n"
     ]
    }
   ],
   "source": [
    "start = time.time()\n",
    "\n",
    "#Integer Encoding\n",
    "\n",
    "label_encoder = LabelEncoder()\n",
    "colHeads = data.columns\n",
    "L = []\n",
    "for head in colHeads:\n",
    "    if(\"ApprovalFY\" == head):\n",
    "        continue\n",
    "    elif(data[head].dtypes == 'object'): \n",
    "        data[head] = label_encoder.fit_transform(data[head])\n",
    "        \n",
    "for x in np.array(data.ApprovalFY):\n",
    "    x = int(str(x)[0:4])\n",
    "    L.append(x)\n",
    "    \n",
    "data.insert(4,\"Approval_FY\",L)\n",
    "del(data['ApprovalFY'])\n",
    "\n",
    "print(data.head(5))\n",
    "\n",
    "end = time.time()\n",
    "\n",
    "print(\"\\nRuntime: %.3f seconds\"% (end - start))"
   ]
  },
  {
   "cell_type": "code",
   "execution_count": 72,
   "id": "7b3694a4",
   "metadata": {},
   "outputs": [
    {
     "name": "stdout",
     "output_type": "stream",
     "text": [
      "<class 'pandas.core.frame.DataFrame'>\n",
      "Int64Index: 886240 entries, 1000014003 to 9996003010\n",
      "Data columns (total 26 columns):\n",
      " #   Column                  Non-Null Count   Dtype  \n",
      "---  ------                  --------------   -----  \n",
      " 0   Name                    886240 non-null  int32  \n",
      " 1   City                    886240 non-null  int32  \n",
      " 2   State                   886240 non-null  int32  \n",
      " 3   Zip                     886240 non-null  int64  \n",
      " 4   Approval_FY             886240 non-null  int64  \n",
      " 5   Sector(based on NAICS)  886240 non-null  int32  \n",
      " 6   Bank                    886240 non-null  int32  \n",
      " 7   BankState               886240 non-null  int32  \n",
      " 8   ApprovalDate            886240 non-null  int32  \n",
      " 9   Term                    886240 non-null  int64  \n",
      " 10  NoEmp                   886240 non-null  int64  \n",
      " 11  NewExist                886240 non-null  float64\n",
      " 12  CreateJob               886240 non-null  int64  \n",
      " 13  RetainedJob             886240 non-null  int64  \n",
      " 14  FranchiseCode           886240 non-null  int64  \n",
      " 15  UrbanRural              886240 non-null  int64  \n",
      " 16  RevLineCr               886240 non-null  int32  \n",
      " 17  LowDoc                  886240 non-null  int32  \n",
      " 18  ChgOffDate              886240 non-null  int64  \n",
      " 19  DisbursementDate        886240 non-null  int32  \n",
      " 20  DisbursementGross       886240 non-null  int32  \n",
      " 21  BalanceGross            886240 non-null  int32  \n",
      " 22  MIS_Status              886240 non-null  int32  \n",
      " 23  ChgOffPrinGr            886240 non-null  int32  \n",
      " 24  GrAppv                  886240 non-null  int32  \n",
      " 25  SBA_Appv                886240 non-null  int32  \n",
      "dtypes: float64(1), int32(16), int64(9)\n",
      "memory usage: 128.5 MB\n",
      "None\n",
      "\n",
      "Runtime: 0.182 seconds\n"
     ]
    }
   ],
   "source": [
    "start = time.time()\n",
    "\n",
    "#Segregating input and output\n",
    "\n",
    "X = data.drop(\"ChgOffDate\", axis = 1).values\n",
    "Y = data[\"ChgOffDate\"].values\n",
    "print(data.info())\n",
    "\n",
    "end = time.time()\n",
    "\n",
    "print(\"\\nRuntime: %.3f seconds\"% (end - start))"
   ]
  },
  {
   "cell_type": "code",
   "execution_count": 73,
   "id": "9c9980d9",
   "metadata": {},
   "outputs": [
    {
     "name": "stdout",
     "output_type": "stream",
     "text": [
      "[2.542e+05 3.174e+05 9.482e+03 3.938e+05 6.647e+02 4.411e+02 9.096e+06\n",
      " 1.116e+03 3.324e+04 5.228e+06 3.041e+05 6.346e+01 7.966e+05 6.734e+05\n",
      " 1.501e+07 1.236e+04 1.405e+04 1.324e+03 5.157e+06 5.779e+03 2.329e+01\n",
      " 1.502e+05 2.953e+10 1.290e+06 1.650e+07]\n",
      "\n",
      "Runtime: 0.213 seconds\n"
     ]
    }
   ],
   "source": [
    "start = time.time()\n",
    "\n",
    "#Feature Selection\n",
    "\n",
    "test = SelectKBest(score_func = chi2, k = 16)\n",
    "fit = test.fit(X,Y)\n",
    "print(fit.scores_)\n",
    "X_selected = fit.transform(X)\n",
    "\n",
    "end = time.time()\n",
    "\n",
    "print(\"\\nRuntime: %.3f seconds\"% (end - start))"
   ]
  },
  {
   "cell_type": "code",
   "execution_count": 74,
   "id": "7fef17d6",
   "metadata": {},
   "outputs": [
    {
     "name": "stdout",
     "output_type": "stream",
     "text": [
      "\n",
      "Runtime: 0.147 seconds\n"
     ]
    }
   ],
   "source": [
    "start = time.time()\n",
    "\n",
    "#Standardization of input data\n",
    "\n",
    "scaler = StandardScaler()\n",
    "\n",
    "scaler = scaler.fit(X_selected)\n",
    "X_selected_transformed = scaler.transform(X_selected)\n",
    "\n",
    "end = time.time()\n",
    "\n",
    "print(\"\\nRuntime: %.3f seconds\"% (end - start))"
   ]
  },
  {
   "cell_type": "code",
   "execution_count": 75,
   "id": "626a4cde",
   "metadata": {},
   "outputs": [
    {
     "name": "stdout",
     "output_type": "stream",
     "text": [
      "X_train:  664680\n",
      "X_test:  221560\n",
      "Y_train:  664680\n",
      "Y_test:  221560\n",
      "\n",
      "Runtime: 0.183 seconds\n"
     ]
    }
   ],
   "source": [
    "start = time.time()\n",
    "\n",
    "#Train Test Split\n",
    "\n",
    "X_train, X_test, Y_train, Y_test = train_test_split(X_selected_transformed,Y,test_size = 0.25, random_state = 7)\n",
    "print(\"X_train: \", len(X_train))\n",
    "print(\"X_test: \", len(X_test))\n",
    "print(\"Y_train: \", len(Y_train))\n",
    "print(\"Y_test: \", len(Y_test))\n",
    "\n",
    "end = time.time()\n",
    "\n",
    "print(\"\\nRuntime: %.3f seconds\"% (end - start))"
   ]
  },
  {
   "cell_type": "markdown",
   "id": "a6f89a36",
   "metadata": {},
   "source": [
    "# Spot Checking"
   ]
  },
  {
   "cell_type": "code",
   "execution_count": 76,
   "id": "94ad4ea3",
   "metadata": {},
   "outputs": [],
   "source": [
    "kfold = KFold(n_splits = 10)"
   ]
  },
  {
   "cell_type": "code",
   "execution_count": 77,
   "id": "b2069555",
   "metadata": {},
   "outputs": [
    {
     "name": "stdout",
     "output_type": "stream",
     "text": [
      "Validation Score for Logistic Regression: 99.933%\n",
      "\n",
      "Runtime: 16.249 seconds\n"
     ]
    }
   ],
   "source": [
    "start = time.time()\n",
    "\n",
    "#Logistic Regression\n",
    "\n",
    "model = LogisticRegression()\n",
    "results = cross_val_score(model,X_train,Y_train, cv = kfold)\n",
    "print(\"Validation Score for Logistic Regression: %.3f%%\"% (results.mean()*100))\n",
    "\n",
    "end = time.time()\n",
    "\n",
    "print(\"\\nRuntime: %.3f seconds\"% (end - start))"
   ]
  },
  {
   "cell_type": "code",
   "execution_count": 78,
   "id": "b79bd342",
   "metadata": {},
   "outputs": [
    {
     "name": "stdout",
     "output_type": "stream",
     "text": [
      "Validation Score for Linear Discriminant Analysis: 99.443%\n",
      "\n",
      "Runtime: 9.603 seconds\n"
     ]
    }
   ],
   "source": [
    "start = time.time()\n",
    "\n",
    "#Linear Discriminant Analysis\n",
    "\n",
    "model = LinearDiscriminantAnalysis()\n",
    "results = cross_val_score(model,X_train,Y_train, cv = kfold)\n",
    "print(\"Validation Score for Linear Discriminant Analysis: %.3f%%\"% (results.mean()*100))\n",
    "\n",
    "end = time.time()\n",
    "\n",
    "print(\"\\nRuntime: %.3f seconds\"% (end - start))"
   ]
  },
  {
   "cell_type": "code",
   "execution_count": 79,
   "id": "0ddbc68b",
   "metadata": {},
   "outputs": [
    {
     "name": "stdout",
     "output_type": "stream",
     "text": [
      "Validation Score for GaussianNB: 99.943%\n",
      "\n",
      "Runtime: 2.081 seconds\n"
     ]
    }
   ],
   "source": [
    "start = time.time()\n",
    "\n",
    "#Gaussian (Naive Bayes)\n",
    "\n",
    "model = GaussianNB()\n",
    "results = cross_val_score(model,X_train,Y_train, cv = kfold)\n",
    "print(\"Validation Score for GaussianNB: %.3f%%\"% (results.mean()*100))\n",
    "\n",
    "end = time.time()\n",
    "\n",
    "print(\"\\nRuntime: %.3f seconds\"% (end - start))"
   ]
  },
  {
   "cell_type": "code",
   "execution_count": 80,
   "id": "2333f64c",
   "metadata": {},
   "outputs": [
    {
     "name": "stdout",
     "output_type": "stream",
     "text": [
      "Validation Score for KNN Classifier: 99.938%\n",
      "\n",
      "Runtime: 0.241 seconds\n"
     ]
    }
   ],
   "source": [
    "start = time.time()\n",
    "\n",
    "#KNN Classifier\n",
    "\n",
    "model = GaussianNB()\n",
    "model = model.fit(X_train, Y_train)   \n",
    "Y_predicted = model.predict(X_test)\n",
    "print(\"Validation Score for KNN Classifier: %.3f%%\"% (accuracy_score(Y_test, Y_predicted)*100))\n",
    "\n",
    "end = time.time()\n",
    "\n",
    "print(\"\\nRuntime: %.3f seconds\"% (end - start))"
   ]
  },
  {
   "cell_type": "code",
   "execution_count": 81,
   "id": "aea2ba7b",
   "metadata": {
    "scrolled": true
   },
   "outputs": [
    {
     "name": "stdout",
     "output_type": "stream",
     "text": [
      "Validation Score for CART: 99.981%\n",
      "\n",
      "Runtime: 5.222 seconds\n"
     ]
    }
   ],
   "source": [
    "start = time.time()\n",
    "\n",
    "#CART (Classification And Regression Tree)\n",
    "\n",
    "model = DecisionTreeClassifier()\n",
    "model = model.fit(X_train, Y_train)   \n",
    "Y_predicted = model.predict(X_test)\n",
    "print(\"Validation Score for CART: %.3f%%\"% (accuracy_score(Y_test, Y_predicted)*100))\n",
    "\n",
    "end = time.time()\n",
    "\n",
    "print(\"\\nRuntime: %.3f seconds\"% (end - start))"
   ]
  },
  {
   "cell_type": "code",
   "execution_count": null,
   "id": "1c660a22",
   "metadata": {},
   "outputs": [],
   "source": [
    "start = time.time()\n",
    "\n",
    "#Random Forest Algorithm\n",
    "\n",
    "model = RandomForestClassifier(random_state = 0)\n",
    "results = cross_val_score(model,X_train,Y_train, cv = kfold)\n",
    "print(\"Validation Score for Random Forest Classifier: %.3f%%\"% (results.mean()*100))\n",
    "\n",
    "end = time.time()\n",
    "\n",
    "print(\"\\nRuntime: %.3f seconds\"% (end - start))"
   ]
  },
  {
   "cell_type": "markdown",
   "id": "14e3eef0",
   "metadata": {},
   "source": [
    "Runtime: infinity"
   ]
  },
  {
   "cell_type": "code",
   "execution_count": null,
   "id": "c8cd536d",
   "metadata": {},
   "outputs": [],
   "source": [
    "start = time.time()\n",
    "\n",
    "#SVM (Support Vector Machine)\n",
    "\n",
    "model = SVC()\n",
    "model = model.fit(X_train, Y_train)   \n",
    "Y_predicted = model.predict(X_test)\n",
    "print(\"Validation Score for SVC: %.3f%%\"% (accuracy_score(Y_test, Y_predicted)*100))\n",
    "\n",
    "end = time.time()\n",
    "\n",
    "print(\"\\nRuntime: %.3f seconds\"% (end - start))"
   ]
  },
  {
   "cell_type": "markdown",
   "id": "b2726929",
   "metadata": {},
   "source": [
    "Runtime: infinity"
   ]
  },
  {
   "cell_type": "markdown",
   "id": "32a09717",
   "metadata": {},
   "source": [
    "# Training the Model"
   ]
  },
  {
   "cell_type": "code",
   "execution_count": 82,
   "id": "9614e7e0",
   "metadata": {},
   "outputs": [
    {
     "name": "stdout",
     "output_type": "stream",
     "text": [
      "\n",
      "Runtime: 4.615 seconds\n"
     ]
    }
   ],
   "source": [
    "start = time.time()\n",
    "\n",
    "#Training the best model\n",
    "\n",
    "model = DecisionTreeClassifier()\n",
    "model = model.fit(X_train, Y_train)   #Training of best algorithm\n",
    "Y_predicted = model.predict(X_test)\n",
    "\n",
    "end = time.time()\n",
    "\n",
    "print(\"\\nRuntime: %.3f seconds\"% (end - start))"
   ]
  },
  {
   "cell_type": "markdown",
   "id": "4472cfe5",
   "metadata": {},
   "source": [
    "# Evaluation Metrics"
   ]
  },
  {
   "cell_type": "code",
   "execution_count": 83,
   "id": "3b21ac6b",
   "metadata": {},
   "outputs": [
    {
     "name": "stdout",
     "output_type": "stream",
     "text": [
      "\n",
      "\n",
      "Accuracy score of Decision Tree Classifier 99.980141%\n",
      "\n",
      "\n",
      "confusion_matrix = \n",
      "\n",
      "[[ 40152     21]\n",
      " [    23 181364]]\n",
      "\n",
      "\n",
      "classification_report = \n",
      "\n",
      "              precision    recall  f1-score   support\n",
      "\n",
      "           0       1.00      1.00      1.00     40173\n",
      "           1       1.00      1.00      1.00    181387\n",
      "\n",
      "    accuracy                           1.00    221560\n",
      "   macro avg       1.00      1.00      1.00    221560\n",
      "weighted avg       1.00      1.00      1.00    221560\n",
      "\n",
      "\n",
      "Runtime: 0.286 seconds\n"
     ]
    }
   ],
   "source": [
    "start = time.time()\n",
    "\n",
    "#Classification Accuracy\n",
    "print(\"\\n\\nAccuracy score of Decision Tree Classifier %f%%\" % (accuracy_score(Y_test, Y_predicted)*100))\n",
    "print(\"\\n\")\n",
    "\n",
    "#Confusion Matrix\n",
    "print(\"confusion_matrix = \\n\")\n",
    "print( confusion_matrix(Y_test, Y_predicted))\n",
    "print(\"\\n\")\n",
    "\n",
    "#Classification Report\n",
    "print(\"classification_report = \\n\")\n",
    "print( classification_report(Y_test, Y_predicted))\n",
    "\n",
    "end = time.time()\n",
    "\n",
    "print(\"\\nRuntime: %.3f seconds\"% (end - start))"
   ]
  },
  {
   "cell_type": "markdown",
   "id": "bae8c3a1",
   "metadata": {},
   "source": [
    "# Dumping Trained Model"
   ]
  },
  {
   "cell_type": "code",
   "execution_count": 84,
   "id": "8e0df27d",
   "metadata": {},
   "outputs": [
    {
     "name": "stdout",
     "output_type": "stream",
     "text": [
      "Best Performing Model dumped successfully into a file by Joblib\n",
      "\n",
      "Runtime: 0.000 seconds\n"
     ]
    }
   ],
   "source": [
    "start = time.time()\n",
    "\n",
    "import joblib\n",
    "filename =  \"finalized_SBAnational_model.sav\"\n",
    "joblib.dump(model, filename)\n",
    "print( \"Best Performing Model dumped successfully into a file by Joblib\")\n",
    "\n",
    "end = time.time()\n",
    "\n",
    "print(\"\\nRuntime: %.3f seconds\"% (end - start))"
   ]
  }
 ],
 "metadata": {
  "kernelspec": {
   "display_name": "Python 3 (ipykernel)",
   "language": "python",
   "name": "python3"
  },
  "language_info": {
   "codemirror_mode": {
    "name": "ipython",
    "version": 3
   },
   "file_extension": ".py",
   "mimetype": "text/x-python",
   "name": "python",
   "nbconvert_exporter": "python",
   "pygments_lexer": "ipython3",
   "version": "3.9.13"
  }
 },
 "nbformat": 4,
 "nbformat_minor": 5
}
